{
 "cells": [
  {
   "cell_type": "code",
   "execution_count": null,
   "id": "2e157493",
   "metadata": {},
   "outputs": [
    {
     "name": "stdout",
     "output_type": "stream",
     "text": [
      " * Serving Flask app '__name__'\n",
      " * Debug mode: off\n"
     ]
    },
    {
     "name": "stderr",
     "output_type": "stream",
     "text": [
      "WARNING: This is a development server. Do not use it in a production deployment. Use a production WSGI server instead.\n",
      " * Running on http://127.0.0.1:5000\n",
      "Press CTRL+C to quit\n"
     ]
    }
   ],
   "source": [
    "# from flask import Flask, request, render_template\n",
    " \n",
    "# app = Flask(\"__name__\")\n",
    " \n",
    "# @app.route(\"/\")\n",
    "# def hello():\n",
    "# \treturn \"this is flask\"\n",
    " \n",
    "# @app.route(\"/admin\")\n",
    "# def hello_admin():\n",
    "# \treturn \"this is debug test\"\n",
    " \n",
    "# app.run()"
   ]
  },
  {
   "cell_type": "code",
   "execution_count": null,
   "id": "da2ac8c6",
   "metadata": {},
   "outputs": [],
   "source": [
    "conda config --set debug True"
   ]
  },
  {
   "cell_type": "code",
   "execution_count": null,
   "id": "30f666ec",
   "metadata": {},
   "outputs": [
    {
     "name": "stdout",
     "output_type": "stream",
     "text": [
      " * Serving Flask app '__main__'\n",
      " * Debug mode: off\n"
     ]
    },
    {
     "name": "stderr",
     "output_type": "stream",
     "text": [
      "WARNING: This is a development server. Do not use it in a production deployment. Use a production WSGI server instead.\n",
      " * Running on http://127.0.0.1:5000\n",
      "Press CTRL+C to quit\n",
      "[2023-11-28 14:19:57,171] ERROR in app: Exception on / [GET]\n",
      "Traceback (most recent call last):\n",
      "  File \"C:\\Users\\SmrutisikhaJena\\anaconda3\\Lib\\site-packages\\flask\\app.py\", line 2525, in wsgi_app\n",
      "    response = self.full_dispatch_request()\n",
      "               ^^^^^^^^^^^^^^^^^^^^^^^^^^^^\n",
      "  File \"C:\\Users\\SmrutisikhaJena\\anaconda3\\Lib\\site-packages\\flask\\app.py\", line 1822, in full_dispatch_request\n",
      "    rv = self.handle_user_exception(e)\n",
      "         ^^^^^^^^^^^^^^^^^^^^^^^^^^^^^\n",
      "  File \"C:\\Users\\SmrutisikhaJena\\anaconda3\\Lib\\site-packages\\flask\\app.py\", line 1820, in full_dispatch_request\n",
      "    rv = self.dispatch_request()\n",
      "         ^^^^^^^^^^^^^^^^^^^^^^^\n",
      "  File \"C:\\Users\\SmrutisikhaJena\\anaconda3\\Lib\\site-packages\\flask\\app.py\", line 1796, in dispatch_request\n",
      "    return self.ensure_sync(self.view_functions[rule.endpoint])(**view_args)\n",
      "           ^^^^^^^^^^^^^^^^^^^^^^^^^^^^^^^^^^^^^^^^^^^^^^^^^^^^^^^^^^^^^^^^^\n",
      "  File \"C:\\Users\\SmrutisikhaJena\\AppData\\Local\\Temp\\ipykernel_18836\\1528747851.py\", line 19, in loadPage\n",
      "    return render_template('home.html')\n",
      "           ^^^^^^^^^^^^^^^^^^^^^^^^^^^^\n",
      "  File \"C:\\Users\\SmrutisikhaJena\\anaconda3\\Lib\\site-packages\\flask\\templating.py\", line 146, in render_template\n",
      "    template = app.jinja_env.get_or_select_template(template_name_or_list)\n",
      "               ^^^^^^^^^^^^^^^^^^^^^^^^^^^^^^^^^^^^^^^^^^^^^^^^^^^^^^^^^^^\n",
      "  File \"C:\\Users\\SmrutisikhaJena\\anaconda3\\Lib\\site-packages\\jinja2\\environment.py\", line 1081, in get_or_select_template\n",
      "    return self.get_template(template_name_or_list, parent, globals)\n",
      "           ^^^^^^^^^^^^^^^^^^^^^^^^^^^^^^^^^^^^^^^^^^^^^^^^^^^^^^^^^\n",
      "  File \"C:\\Users\\SmrutisikhaJena\\anaconda3\\Lib\\site-packages\\jinja2\\environment.py\", line 1010, in get_template\n",
      "    return self._load_template(name, globals)\n",
      "           ^^^^^^^^^^^^^^^^^^^^^^^^^^^^^^^^^^\n",
      "  File \"C:\\Users\\SmrutisikhaJena\\anaconda3\\Lib\\site-packages\\jinja2\\environment.py\", line 969, in _load_template\n",
      "    template = self.loader.load(self, name, self.make_globals(globals))\n",
      "               ^^^^^^^^^^^^^^^^^^^^^^^^^^^^^^^^^^^^^^^^^^^^^^^^^^^^^^^^\n",
      "  File \"C:\\Users\\SmrutisikhaJena\\anaconda3\\Lib\\site-packages\\jinja2\\loaders.py\", line 126, in load\n",
      "    source, filename, uptodate = self.get_source(environment, name)\n",
      "                                 ^^^^^^^^^^^^^^^^^^^^^^^^^^^^^^^^^^\n",
      "  File \"C:\\Users\\SmrutisikhaJena\\anaconda3\\Lib\\site-packages\\flask\\templating.py\", line 62, in get_source\n",
      "    return self._get_source_fast(environment, template)\n",
      "           ^^^^^^^^^^^^^^^^^^^^^^^^^^^^^^^^^^^^^^^^^^^^\n",
      "  File \"C:\\Users\\SmrutisikhaJena\\anaconda3\\Lib\\site-packages\\flask\\templating.py\", line 98, in _get_source_fast\n",
      "    raise TemplateNotFound(template)\n",
      "jinja2.exceptions.TemplateNotFound: home.html\n",
      "127.0.0.1 - - [28/Nov/2023 14:19:57] \"GET / HTTP/1.1\" 500 -\n",
      "[2023-11-28 14:20:02,231] ERROR in app: Exception on / [GET]\n",
      "Traceback (most recent call last):\n",
      "  File \"C:\\Users\\SmrutisikhaJena\\anaconda3\\Lib\\site-packages\\flask\\app.py\", line 2525, in wsgi_app\n",
      "    response = self.full_dispatch_request()\n",
      "               ^^^^^^^^^^^^^^^^^^^^^^^^^^^^\n",
      "  File \"C:\\Users\\SmrutisikhaJena\\anaconda3\\Lib\\site-packages\\flask\\app.py\", line 1822, in full_dispatch_request\n",
      "    rv = self.handle_user_exception(e)\n",
      "         ^^^^^^^^^^^^^^^^^^^^^^^^^^^^^\n",
      "  File \"C:\\Users\\SmrutisikhaJena\\anaconda3\\Lib\\site-packages\\flask\\app.py\", line 1820, in full_dispatch_request\n",
      "    rv = self.dispatch_request()\n",
      "         ^^^^^^^^^^^^^^^^^^^^^^^\n",
      "  File \"C:\\Users\\SmrutisikhaJena\\anaconda3\\Lib\\site-packages\\flask\\app.py\", line 1796, in dispatch_request\n",
      "    return self.ensure_sync(self.view_functions[rule.endpoint])(**view_args)\n",
      "           ^^^^^^^^^^^^^^^^^^^^^^^^^^^^^^^^^^^^^^^^^^^^^^^^^^^^^^^^^^^^^^^^^\n",
      "  File \"C:\\Users\\SmrutisikhaJena\\AppData\\Local\\Temp\\ipykernel_18836\\1528747851.py\", line 19, in loadPage\n",
      "    return render_template('home.html')\n",
      "           ^^^^^^^^^^^^^^^^^^^^^^^^^^^^\n",
      "  File \"C:\\Users\\SmrutisikhaJena\\anaconda3\\Lib\\site-packages\\flask\\templating.py\", line 146, in render_template\n",
      "    template = app.jinja_env.get_or_select_template(template_name_or_list)\n",
      "               ^^^^^^^^^^^^^^^^^^^^^^^^^^^^^^^^^^^^^^^^^^^^^^^^^^^^^^^^^^^\n",
      "  File \"C:\\Users\\SmrutisikhaJena\\anaconda3\\Lib\\site-packages\\jinja2\\environment.py\", line 1081, in get_or_select_template\n",
      "    return self.get_template(template_name_or_list, parent, globals)\n",
      "           ^^^^^^^^^^^^^^^^^^^^^^^^^^^^^^^^^^^^^^^^^^^^^^^^^^^^^^^^^\n",
      "  File \"C:\\Users\\SmrutisikhaJena\\anaconda3\\Lib\\site-packages\\jinja2\\environment.py\", line 1010, in get_template\n",
      "    return self._load_template(name, globals)\n",
      "           ^^^^^^^^^^^^^^^^^^^^^^^^^^^^^^^^^^\n",
      "  File \"C:\\Users\\SmrutisikhaJena\\anaconda3\\Lib\\site-packages\\jinja2\\environment.py\", line 969, in _load_template\n",
      "    template = self.loader.load(self, name, self.make_globals(globals))\n",
      "               ^^^^^^^^^^^^^^^^^^^^^^^^^^^^^^^^^^^^^^^^^^^^^^^^^^^^^^^^\n",
      "  File \"C:\\Users\\SmrutisikhaJena\\anaconda3\\Lib\\site-packages\\jinja2\\loaders.py\", line 126, in load\n",
      "    source, filename, uptodate = self.get_source(environment, name)\n",
      "                                 ^^^^^^^^^^^^^^^^^^^^^^^^^^^^^^^^^^\n",
      "  File \"C:\\Users\\SmrutisikhaJena\\anaconda3\\Lib\\site-packages\\flask\\templating.py\", line 62, in get_source\n",
      "    return self._get_source_fast(environment, template)\n",
      "           ^^^^^^^^^^^^^^^^^^^^^^^^^^^^^^^^^^^^^^^^^^^^\n",
      "  File \"C:\\Users\\SmrutisikhaJena\\anaconda3\\Lib\\site-packages\\flask\\templating.py\", line 98, in _get_source_fast\n",
      "    raise TemplateNotFound(template)\n",
      "jinja2.exceptions.TemplateNotFound: home.html\n",
      "127.0.0.1 - - [28/Nov/2023 14:20:02] \"GET / HTTP/1.1\" 500 -\n"
     ]
    }
   ],
   "source": [
    "import pandas as pd\n",
    "from sklearn.model_selection import train_test_split\n",
    "from sklearn.ensemble import RandomForestClassifier \n",
    "from sklearn import metrics\n",
    "from flask import Flask, request, render_template\n",
    "import re\n",
    "import math\n",
    "from utility.data_cleaning import *\n",
    "from utility.data_preprocessing import *\n",
    "from utility.model_building import *\n",
    "from config.configuration import *\n",
    "\n",
    "\n",
    "\n",
    "app = Flask(__name__)\n",
    "\n",
    "@app.route(\"/\")\n",
    "def loadPage():\n",
    "    return render_template('home.html')\n",
    "\n",
    "\n",
    "@app.route(\"/\", methods=['POST'])\n",
    "def RiskPrediction():\n",
    "    \n",
    "    inputQuery1 = request.form['query1']\n",
    "    inputQuery2 = request.form['query2']\n",
    "    inputQuery3 = request.form['query3']\n",
    "    inputQuery4 = request.form['query4']\n",
    "    inputQuery5 = request.form['query5']\n",
    "    inputQuery6 = request.form['query6']\n",
    "    inputQuery7 = request.form['query7']\n",
    "    inputQuery8 = request.form['query8']\n",
    "    inputQuery9 = request.form['query9']\n",
    "    inputQuery10 = request.form['query10']\n",
    "    inputQuery11 = request.form['query11']\n",
    "    inputQuery12 = request.form['query12']\n",
    "    inputQuery13 = request.form['query13']\n",
    "   \n",
    "       \n",
    "   \n",
    "\n",
    "    data = [[inputQuery1, inputQuery2, inputQuery3, inputQuery4, inputQuery5,inputQuery6, inputQuery7, inputQuery8, inputQuery9, inputQuery10,inputQuery11, inputQuery12, inputQuery13]]\n",
    " \n",
    "    # Create the pandas DataFrame \n",
    "    df = pd.DataFrame(data, columns = ['Jurisdiction', 'CoverageType', 'Deductible', 'Limit', 'InjuryCause','YearBuilt', 'Stories', 'Comments', 'ConstructionTypeDesc', 'ZipCode','E2Value', 'SquareFootage', 'BuildingLimit'])\n",
    " \n",
    "    #import model and encoder  \n",
    "    with open('./data/training/output/lgb_model.pkl', 'rb') as file:\n",
    "        model=pickle.load(file)\n",
    "    with open('./data/training/output/encoder.pkl', 'rb') as file:\n",
    "        label_encoders=pickle.load(file)\n",
    "    df_clean = clean_data(df)\n",
    "    for col in label_encoders:\n",
    "        df_clean[col] = label_encoders[col].transform(df_clean[col])\n",
    "    predicted_loss_amount= model.predict(df_clean)\n",
    "    output = predicted_loss_amount[0]\n",
    "\n",
    "    \n",
    "    \n",
    "    return render_template('home.html', Predicted_loss_amount=output, query1 = request.form['query1'], query2 = request.form['query2'],query3 = request.form['query3'],query4 = request.form['query4'],query5 = request.form['query5'],query6 = request.form['query6'],query7 = request.form['query7'],query8 = request.form['query8'],query9 = request.form['query9'],query10 = request.form['query10'],query11 = request.form['query11'],query12 = request.form['query12'],query13 = request.form['query13'])\n",
    "\n",
    "#if __name__ == '__main__':\n",
    "app.run()\n"
   ]
  },
  {
   "cell_type": "code",
   "execution_count": 17,
   "id": "925242c0",
   "metadata": {},
   "outputs": [],
   "source": [
    "import pandas as pd\n",
    "import pickle\n",
    "from sklearn.model_selection import train_test_split\n",
    "from sklearn.ensemble import RandomForestClassifier \n",
    "from sklearn import metrics\n",
    "from flask import Flask, request, render_template\n",
    "import re\n",
    "import math\n",
    "from utility.data_cleaning import *\n",
    "from config.configuration import *\n",
    "#import model and encoder  \n",
    "with open('./data/training/output/rf_model.pkl', 'rb') as file:\n",
    "    model=pickle.load(file)\n",
    "with open('./data/training/output/encoder.pkl', 'rb') as file:\n",
    "    label_encoders=pickle.load(file) \n",
    "    "
   ]
  },
  {
   "cell_type": "code",
   "execution_count": null,
   "id": "31aed3af",
   "metadata": {},
   "outputs": [],
   "source": [
    "print(label_encoders)"
   ]
  },
  {
   "cell_type": "code",
   "execution_count": 5,
   "id": "833a4474",
   "metadata": {},
   "outputs": [
    {
     "data": {
      "text/plain": [
       "4569.426300000004"
      ]
     },
     "execution_count": 5,
     "metadata": {},
     "output_type": "execute_result"
    }
   ],
   "source": [
    "data = [['Dist. of Columbia', 'BOP-Building', 'FixedDollar - 2500.00', 'Standard - 550637568.00', 'WATER', '2012', '8', 'ClassCode:65146', 'MasonryNonCombustible', '20016', '3640000.0000','35000','5426100']]\n",
    "df = pd.DataFrame(data, columns=['Jurisdiction', 'CoverageType', 'Deductible', 'Limit', 'InjuryCause', 'YearBuilt', 'Stories', 'Comments', 'ConstructionTypeDesc', 'ZipCode', 'E2Value', 'SquareFootage', 'BuildingLimit'])\n",
    "df_clean = clean_data(df)\n",
    "for col in label_encoders:\n",
    "    df_clean[col] = label_encoders[col].transform(df_clean[col])\n",
    "predicted_loss_amount= model.predict(df_clean)\n",
    "output = predicted_loss_amount[0]\n",
    "output"
   ]
  },
  {
   "cell_type": "code",
   "execution_count": null,
   "id": "d739f3ec",
   "metadata": {},
   "outputs": [],
   "source": []
  }
 ],
 "metadata": {
  "kernelspec": {
   "display_name": "Python 3 (ipykernel)",
   "language": "python",
   "name": "python3"
  },
  "language_info": {
   "codemirror_mode": {
    "name": "ipython",
    "version": 3
   },
   "file_extension": ".py",
   "mimetype": "text/x-python",
   "name": "python",
   "nbconvert_exporter": "python",
   "pygments_lexer": "ipython3",
   "version": "3.11.5"
  }
 },
 "nbformat": 4,
 "nbformat_minor": 5
}
