{
 "cells": [
  {
   "cell_type": "code",
   "execution_count": null,
   "id": "a2cd85bc",
   "metadata": {},
   "outputs": [
    {
     "name": "stdout",
     "output_type": "stream",
     "text": [
      " * Serving Flask app '__main__'\n",
      " * Debug mode: off\n"
     ]
    },
    {
     "name": "stderr",
     "output_type": "stream",
     "text": [
      "WARNING: This is a development server. Do not use it in a production deployment. Use a production WSGI server instead.\n",
      " * Running on http://127.0.0.1:5000\n",
      "Press CTRL+C to quit\n",
      "127.0.0.1 - - [28/Nov/2023 13:17:43] \"GET / HTTP/1.1\" 200 -\n",
      "127.0.0.1 - - [28/Nov/2023 13:27:36] \"GET / HTTP/1.1\" 200 -\n",
      "127.0.0.1 - - [28/Nov/2023 14:13:25] \"GET /flask_test HTTP/1.1\" 404 -\n",
      "127.0.0.1 - - [28/Nov/2023 14:13:30] \"GET /flask_test HTTP/1.1\" 404 -\n",
      "127.0.0.1 - - [28/Nov/2023 14:13:32] \"GET /flask_test HTTP/1.1\" 404 -\n",
      "127.0.0.1 - - [28/Nov/2023 14:13:32] \"GET /flask_test HTTP/1.1\" 404 -\n",
      "127.0.0.1 - - [28/Nov/2023 14:13:33] \"GET /flask_test HTTP/1.1\" 404 -\n",
      "127.0.0.1 - - [28/Nov/2023 14:13:33] \"GET /flask_test HTTP/1.1\" 404 -\n",
      "127.0.0.1 - - [28/Nov/2023 14:13:38] \"GET /flask_test HTTP/1.1\" 404 -\n",
      "127.0.0.1 - - [28/Nov/2023 14:13:41] \"GET /flask_test HTTP/1.1\" 404 -\n",
      "127.0.0.1 - - [28/Nov/2023 14:13:43] \"GET /flask_test HTTP/1.1\" 404 -\n",
      "127.0.0.1 - - [28/Nov/2023 14:13:44] \"GET /flask_test HTTP/1.1\" 404 -\n",
      "127.0.0.1 - - [28/Nov/2023 14:14:01] \"GET / HTTP/1.1\" 200 -\n"
     ]
    }
   ],
   "source": [
    "from flask import Flask\n",
    "app = Flask(__name__)\n",
    "\n",
    "@app.route('/')\n",
    "def hello_world():\n",
    "   return 'Hello World'\n",
    "\n",
    "if __name__ == '__main__':\n",
    "   app.run()"
   ]
  },
  {
   "cell_type": "code",
   "execution_count": null,
   "id": "504c8728",
   "metadata": {},
   "outputs": [
    {
     "name": "stdout",
     "output_type": "stream",
     "text": [
      " * Serving Flask app '__main__'\n",
      " * Debug mode: off\n"
     ]
    },
    {
     "name": "stderr",
     "output_type": "stream",
     "text": [
      "WARNING: This is a development server. Do not use it in a production deployment. Use a production WSGI server instead.\n",
      " * Running on http://127.0.0.1:5000\n",
      "Press CTRL+C to quit\n",
      "127.0.0.1 - - [29/Nov/2023 15:46:35] \"GET / HTTP/1.1\" 404 -\n",
      "127.0.0.1 - - [29/Nov/2023 15:46:50] \"GET /incomes HTTP/1.1\" 200 -\n"
     ]
    }
   ],
   "source": [
    "from flask import Flask, request, jsonify\n",
    "\n",
    "app = Flask(__name__)\n",
    "\n",
    "incomes = [\n",
    "    { 'description': 'salary', 'amount': 5000 }\n",
    "]\n",
    "\n",
    "\n",
    "@app.route('/incomes')\n",
    "def get_incomes():\n",
    "    return jsonify(incomes)\n",
    "if __name__ == '__main__':\n",
    "    app.run()"
   ]
  },
  {
   "cell_type": "code",
   "execution_count": 1,
   "id": "5ac531c6",
   "metadata": {},
   "outputs": [],
   "source": [
    "from flask import Flask, render_template, request, jsonify\n",
    "import pandas as pd\n",
    "import pickle"
   ]
  },
  {
   "cell_type": "code",
   "execution_count": 2,
   "id": "6f0d166c",
   "metadata": {},
   "outputs": [],
   "source": [
    "app = Flask(__name__)\n",
    "\n",
    "@app.route(\"/\")\n",
    "def loadPage():\n",
    "    return render_template('home (1).html')"
   ]
  },
  {
   "cell_type": "code",
   "execution_count": null,
   "id": "b0e2a14c",
   "metadata": {},
   "outputs": [
    {
     "name": "stdout",
     "output_type": "stream",
     "text": [
      " * Serving Flask app '__main__'\n",
      " * Debug mode: off\n"
     ]
    },
    {
     "name": "stderr",
     "output_type": "stream",
     "text": [
      "WARNING: This is a development server. Do not use it in a production deployment. Use a production WSGI server instead.\n",
      " * Running on http://127.0.0.1:5000\n",
      "Press CTRL+C to quit\n",
      "127.0.0.1 - - [29/Nov/2023 12:07:12] \"GET / HTTP/1.1\" 200 -\n",
      "127.0.0.1 - - [29/Nov/2023 12:09:36] \"POST / HTTP/1.1\" 400 -\n"
     ]
    }
   ],
   "source": [
    "@app.route(\"/\", methods=['POST'])\n",
    "def RiskPrediction():\n",
    "    if request.is_json:\n",
    "        json_data = request.get_json()\n",
    "        # Extract data from JSON\n",
    "        inputQuery1 = json_data.get('query1', 'Dist. of Columbia')\n",
    "        inputQuery2 = json_data.get('query2', 'BOP-Building')\n",
    "        inputQuery3 = request.form['query3', 'FixedDollar - 2500.00']\n",
    "        inputQuery4 = request.form['query4', 'Standard - 550637568.00']\n",
    "        inputQuery5 = request.form['query5', 'WATER']\n",
    "        inputQuery6 = request.form['query6', '2012']\n",
    "        inputQuery7 = request.form['query7', '8']\n",
    "        inputQuery8 = request.form['query8', 'ClassCode:65146']\n",
    "        inputQuery9 = request.form['query9', 'MasonryNonCombustible']\n",
    "        inputQuery10 = request.form['query10', '20016']\n",
    "        inputQuery11 = request.form['query11', '3640000.0000']\n",
    "        inputQuery12 = request.form['query12', '35000']\n",
    "        inputQuery13 = request.form['query13', '5426100']\n",
    "        \n",
    "        data = [[inputQuery1, inputQuery2, inputQuery3, inputQuery4, inputQuery5, inputQuery6, inputQuery7, inputQuery8, inputQuery9, inputQuery10, inputQuery11, inputQuery12, inputQuery13]]\n",
    "   \n",
    "    else:\n",
    "        return jsonify({\"error\": \"Invalid request. Only JSON is allowed.\"}), 400\n",
    "#         # If not JSON, assume form data\n",
    "#         inputQuery1 = request.form['query1']\n",
    "#         inputQuery2 = request.form['query2']\n",
    "#         inputQuery3 = request.form['query3']\n",
    "#         inputQuery4 = request.form['query4']\n",
    "#         inputQuery5 = request.form['query5']\n",
    "#         inputQuery6 = request.form['query6']\n",
    "#         inputQuery7 = request.form['query7']\n",
    "#         inputQuery8 = request.form['query8']\n",
    "#         inputQuery9 = request.form['query9']\n",
    "#         inputQuery10 = request.form['query10']\n",
    "#         inputQuery11 = request.form['query11']\n",
    "#         inputQuery12 = request.form['query12']\n",
    "#         inputQuery13 = request.form['query13']\n",
    "        \n",
    "        data = [[inputQuery1, inputQuery2, inputQuery3, inputQuery4, inputQuery5, inputQuery6, inputQuery7, inputQuery8, inputQuery9, inputQuery10, inputQuery11, inputQuery12, inputQuery13]]\n",
    "        df = pd.DataFrame(data, columns=['Jurisdiction', 'CoverageType', 'Deductible', 'Limit', 'InjuryCause', 'YearBuilt', 'Stories', 'Comments', 'ConstructionTypeDesc', 'ZipCode', 'E2Value', 'SquareFootage', 'BuildingLimit'])\n",
    "        with open('./data/training/output/lgb_model.pkl', 'rb') as file:\n",
    "            model=pickle.load(file)\n",
    "        with open('./data/training/output/encoder.pkl', 'rb') as file:\n",
    "            label_encoders=pickle.load(file)\n",
    "        df_clean = clean_data(df)\n",
    "        display(df_clean)\n",
    "        for col in label_encoders:\n",
    "            df_clean[col] = label_encoders[col].transform(df_clean[col])\n",
    "        predicted_loss_amount= model.predict(df_clean)\n",
    "        #curl -X POST -H \"Content-Type: application/json\" -d '{\"query1\": \"Dist. of Columbia\", \"query2\": \"BOP-Building', \"query3\": \"FixedDollar - 2500.00\", \"query4\": \"Standard - 550637568.00\", \"query5\": \"WATER\", \"query6\": \"2012\", \"query7\": \"8\", \"query8\": \"ClassCode:65146\", \"query9\": \"MasonryNonCombustible\", \"query10\": \"20016\", \"query11\": \"3640000.0000\", \"query12\": \"35000\", \"query13\": \"5426100\"}' http://localhost:5000\n",
    "\n",
    "    # Assuming you have a result\n",
    "    output = predicted_loss_amount[0]\n",
    "    return jsonify(output)\n",
    "\n",
    "\n",
    "#     if request.is_json:\n",
    "#         return jsonify(output)\n",
    "#     else:\n",
    "#         return render_template('home (1).html', Predicted_loss_amount=output[\"Predicted_loss_amount\"], query1=inputQuery1, query2=inputQuery2, query3=inputQuery3, query4=inputQuery4, query5=inputQuery5, query6=inputQuery6, query7=inputQuery7, query8=inputQuery8, query9=inputQuery9, query10=inputQuery10, query11=inputQuery11, query12=inputQuery12, query13=inputQuery13)\n",
    "\n",
    "if __name__ == '__main__':\n",
    "    app.run()"
   ]
  },
  {
   "cell_type": "code",
   "execution_count": null,
   "id": "652fc515",
   "metadata": {},
   "outputs": [
    {
     "name": "stdout",
     "output_type": "stream",
     "text": [
      " * Serving Flask app '__main__'\n",
      " * Debug mode: off\n"
     ]
    },
    {
     "name": "stderr",
     "output_type": "stream",
     "text": [
      "WARNING: This is a development server. Do not use it in a production deployment. Use a production WSGI server instead.\n",
      " * Running on http://127.0.0.1:5000\n",
      "Press CTRL+C to quit\n",
      "127.0.0.1 - - [29/Nov/2023 12:49:20] \"GET / HTTP/1.1\" 200 -\n",
      "127.0.0.1 - - [29/Nov/2023 12:50:22] \"GET /risk_prediction HTTP/1.1\" 405 -\n",
      "127.0.0.1 - - [29/Nov/2023 12:51:16] \"POST / HTTP/1.1\" 405 -\n",
      "127.0.0.1 - - [29/Nov/2023 13:11:17] \"POST / HTTP/1.1\" 405 -\n",
      "127.0.0.1 - - [29/Nov/2023 13:18:50] \"GET /?query1=Dist.%20of%20Columbia HTTP/1.1\" 200 -\n",
      "127.0.0.1 - - [29/Nov/2023 13:27:54] \"GET /?query1=Dist.%20of%20Columbia&query2=BOP-Building&query3=FixedDollar%20-%202500.00&query4=Standard%20-%20550637568.00&query5=WATER&query6=2012&query7=8&query8=ClassCode:65146&query9=MasonryNonCombustible&query10=20016&query11=3640000.0000&query12=35000&query13=5426100 HTTP/1.1\" 200 -\n",
      "127.0.0.1 - - [29/Nov/2023 13:30:41] \"GET /risk_prediction HTTP/1.1\" 405 -\n",
      "127.0.0.1 - - [29/Nov/2023 13:31:56] \"GET /?query1=Dist.%20of%20Columbia&query2=BOP-Building&query3=FixedDollar%20-%202500.00&query4=Standard%20-%20550637568.00&query5=WATER&query6=2012&query7=8&query8=ClassCode:65146&query9=MasonryNonCombustible&query10=20016&query11=3640000.0000&query12=35000&query13=5426100 HTTP/1.1\" 200 -\n",
      "127.0.0.1 - - [29/Nov/2023 13:32:11] \"GET / HTTP/1.1\" 200 -\n",
      "127.0.0.1 - - [29/Nov/2023 13:32:25] \"GET /risk_prediction HTTP/1.1\" 405 -\n",
      "127.0.0.1 - - [29/Nov/2023 13:33:25] \"GET / HTTP/1.1\" 200 -\n",
      "127.0.0.1 - - [29/Nov/2023 13:34:39] \"GET / HTTP/1.1\" 200 -\n",
      "127.0.0.1 - - [29/Nov/2023 13:36:20] \"GET / HTTP/1.1\" 200 -\n",
      "127.0.0.1 - - [29/Nov/2023 13:46:54] \"GET / HTTP/1.1\" 200 -\n",
      "127.0.0.1 - - [29/Nov/2023 14:07:13] \"POST /risk_prediction HTTP/1.1\" 400 -\n",
      "127.0.0.1 - - [29/Nov/2023 14:08:46] \"POST /RiskPrediction HTTP/1.1\" 404 -\n",
      "127.0.0.1 - - [29/Nov/2023 14:08:54] \"POST / HTTP/1.1\" 405 -\n",
      "127.0.0.1 - - [29/Nov/2023 14:08:56] \"POST / HTTP/1.1\" 405 -\n",
      "127.0.0.1 - - [29/Nov/2023 14:09:17] \"POST / HTTP/1.1\" 405 -\n",
      "127.0.0.1 - - [29/Nov/2023 14:09:18] \"POST / HTTP/1.1\" 405 -\n",
      "127.0.0.1 - - [29/Nov/2023 14:09:23] \"GET / HTTP/1.1\" 200 -\n",
      "127.0.0.1 - - [29/Nov/2023 14:09:35] \"GET / HTTP/1.1\" 200 -\n"
     ]
    }
   ],
   "source": [
    "from flask import Flask, render_template, request, jsonify\n",
    "import pandas as pd\n",
    "import pickle\n",
    "app = Flask(__name__)\n",
    "\n",
    "@app.route(\"/\")\n",
    "def loadPage():\n",
    "    return render_template('home (1).html')\n",
    "\n",
    "@app.route(\"/risk_prediction\", methods=['POST'])\n",
    "def RiskPrediction():\n",
    "    if request.is_json:\n",
    "        json_data = request.get_json()\n",
    "        # Extract data from JSON\n",
    "        inputQuery1 = json_data.get('query1', 'Dist. of Columbia')\n",
    "        inputQuery2 = json_data.get('query2', 'BOP-Building')\n",
    "        inputQuery3 = json_data.get('query3', 'FixedDollar - 2500.00')\n",
    "        inputQuery4 = json_data.get('query4', 'Standard - 550637568.00')\n",
    "        inputQuery5 = json_data.get('query5', 'WATER')\n",
    "        inputQuery6 = json_data.get('query6', '2012')\n",
    "        inputQuery7 = json_data.get('query7', '8')\n",
    "        inputQuery8 = json_data.get('query8', 'ClassCode:65146')\n",
    "        inputQuery9 = json_data.get('query9', 'MasonryNonCombustible')\n",
    "        inputQuery10 = json_data.get('query10', '20016')\n",
    "        inputQuery11 = json_data.get('query11', '3640000.0000')\n",
    "        inputQuery12 = json_data.get('query12', '35000')\n",
    "        inputQuery13 = json_data.get('query13', '5426100')\n",
    "        \n",
    "        data = [[inputQuery1, inputQuery2, inputQuery3, inputQuery4, inputQuery5, inputQuery6, inputQuery7, inputQuery8, inputQuery9, inputQuery10, inputQuery11, inputQuery12, inputQuery13]]\n",
    "   \n",
    "        df = pd.DataFrame(data, columns=['Jurisdiction', 'CoverageType', 'Deductible', 'Limit', 'InjuryCause', 'YearBuilt', 'Stories', 'Comments', 'ConstructionTypeDesc', 'ZipCode', 'E2Value', 'SquareFootage', 'BuildingLimit'])\n",
    "        with open('./data/training/output/lgb_model.pkl', 'rb') as file:\n",
    "            model = pickle.load(file)\n",
    "        with open('./data/training/output/encoder.pkl', 'rb') as file:\n",
    "            label_encoders = pickle.load(file)\n",
    "        df_clean = clean_data(df)\n",
    "        display(df_clean)\n",
    "        for col in label_encoders:\n",
    "            df_clean[col] = label_encoders[col].transform(df_clean[col])\n",
    "        predicted_loss_amount = model.predict(df_clean)\n",
    "\n",
    "        # Assuming you have a result\n",
    "        output = predicted_loss_amount[0]\n",
    "        return jsonify(output)\n",
    "    else:\n",
    "        return jsonify({\"error\": \"Invalid request. Only JSON is allowed.\"}), 400\n",
    "\n",
    "if __name__ == '__main__':\n",
    "    app.run()"
   ]
  },
  {
   "cell_type": "code",
   "execution_count": null,
   "id": "255193a7",
   "metadata": {},
   "outputs": [
    {
     "name": "stdout",
     "output_type": "stream",
     "text": [
      " * Serving Flask app '__main__'\n",
      " * Debug mode: off\n"
     ]
    },
    {
     "name": "stderr",
     "output_type": "stream",
     "text": [
      "WARNING: This is a development server. Do not use it in a production deployment. Use a production WSGI server instead.\n",
      " * Running on http://127.0.0.1:5000\n",
      "Press CTRL+C to quit\n",
      "127.0.0.1 - - [29/Nov/2023 18:25:14] \"GET / HTTP/1.1\" 200 -\n",
      "127.0.0.1 - - [29/Nov/2023 18:25:31] \"OPTIONS /risk_prediction HTTP/1.1\" 404 -\n",
      "127.0.0.1 - - [29/Nov/2023 18:25:32] \"OPTIONS /risk_prediction HTTP/1.1\" 404 -\n"
     ]
    }
   ],
   "source": [
    "from flask import Flask, render_template, request, jsonify\n",
    "import pandas as pd\n",
    "import pickle\n",
    "\n",
    "\n",
    "app = Flask(__name__)\n",
    "\n",
    "@app.route(\"/\")\n",
    "def loadPage():\n",
    "    return render_template('home (1).html')\n",
    "\n",
    "@app.route(\"/risk_Prediction\", methods=['POST'])\n",
    "def RiskPrediction():\n",
    "    if request.is_json:\n",
    "        json_data = request.get_json()\n",
    "        # Extract data from JSON\n",
    "        inputQuery1 = json_data.get('query1', 'Dist. of Columbia')\n",
    "        inputQuery2 = json_data.get('query2', 'BOP-Building')\n",
    "        inputQuery3 = json_data.get('query3', 'FixedDollar - 2500.00')\n",
    "        inputQuery4 = json_data.get('query4', 'Standard - 550637568.00')\n",
    "        inputQuery5 = json_data.get('query5', 'WATER')\n",
    "        inputQuery6 = json_data.get('query6', '2012')\n",
    "        inputQuery7 = json_data.get('query7', '8')\n",
    "        inputQuery8 = json_data.get('query8', 'ClassCode:65146')\n",
    "        inputQuery9 = json_data.get('query9', 'MasonryNonCombustible')\n",
    "        inputQuery10 = json_data.get('query10', '20016')\n",
    "        inputQuery11 = json_data.get('query11', '3640000.0000')\n",
    "        inputQuery12 = json_data.get('query12', '35000')\n",
    "        inputQuery13 = json_data.get('query13', '5426100')\n",
    "        json_data = [[inputQuery1, inputQuery2, inputQuery3, inputQuery4, inputQuery5, inputQuery6, inputQuery7, inputQuery8, inputQuery9, inputQuery10, inputQuery11, inputQuery12, inputQuery13]]\n",
    "   \n",
    "        df = pd.DataFrame(json_data, columns=['Jurisdiction', 'CoverageType', 'Deductible', 'Limit', 'InjuryCause', 'YearBuilt', 'Stories', 'Comments', 'ConstructionTypeDesc', 'ZipCode', 'E2Value', 'SquareFootage', 'BuildingLimit'])\n",
    "        with open('./data/training/output/lgb_model.pkl', 'rb') as file:\n",
    "            model = pickle.load(file)\n",
    "        with open('./data/training/output/encoder.pkl', 'rb') as file:\n",
    "            label_encoders = pickle.load(file)\n",
    "        df_clean = clean_data(df)\n",
    "        display(df_clean)\n",
    "        for col in label_encoders:\n",
    "            df_clean[col] = label_encoders[col].transform(df_clean[col])\n",
    "        predicted_loss_amount = model.predict(df_clean)\n",
    "\n",
    "        output = {\"results\":\"predicted_loss_amount\"}\n",
    "        return jsonify(output)\n",
    "    else:\n",
    "        inputQuery1 = json_data.get('query1', 'Dist. of Columbia')\n",
    "        inputQuery2 = json_data.get('query2', 'BOP-Building')\n",
    "        inputQuery3 = json_data.get('query3', 'FixedDollar - 2500.00')\n",
    "        inputQuery4 = json_data.get('query4', 'Standard - 550637568.00')\n",
    "        inputQuery5 = json_data.get('query5', 'WATER')\n",
    "        inputQuery6 = json_data.get('query6', '2012')\n",
    "        inputQuery7 = json_data.get('query7', '8')\n",
    "        inputQuery8 = json_data.get('query8', 'ClassCode:65146')\n",
    "        inputQuery9 = json_data.get('query9', 'MasonryNonCombustible')\n",
    "        inputQuery10 = json_data.get('query10', '20016')\n",
    "        inputQuery11 = json_data.get('query11', '3640000.0000')\n",
    "        inputQuery12 = json_data.get('query12', '35000')\n",
    "        inputQuery13 = json_data.get('query13', '5426100')\n",
    "\n",
    "        data = [[inputQuery1, inputQuery2]]  # Add other inputs to the list\n",
    "        df = pd.DataFrame(data, columns=['Jurisdiction', 'CoverageType'])  # Add other column names\n",
    "\n",
    "        with open('./data/training/output/lgb_model.pkl', 'rb') as file:\n",
    "            model = pickle.load(file)\n",
    "        with open('./data/training/output/encoder.pkl', 'rb') as file:\n",
    "            label_encoders = pickle.load(file)\n",
    "        df_clean = clean_data(df)\n",
    "        display(df_clean)\n",
    "        for col in label_encoders:\n",
    "            df_clean[col] = label_encoders[col].transform(df_clean[col])\n",
    "        predicted_loss_amount = model.predict(df_clean)\n",
    "\n",
    "        output = {\"results\":\"predicted_loss_amount\"}  # Replace this with your actual result\n",
    "        return jsonify(output)\n",
    "\n",
    "\n",
    "\n",
    "if __name__ == '__main__':\n",
    "    app.run()"
   ]
  },
  {
   "cell_type": "code",
   "execution_count": null,
   "id": "f3a14be9",
   "metadata": {},
   "outputs": [
    {
     "name": "stdout",
     "output_type": "stream",
     "text": [
      " * Serving Flask app '__main__'\n",
      " * Debug mode: off\n"
     ]
    },
    {
     "name": "stderr",
     "output_type": "stream",
     "text": [
      "WARNING: This is a development server. Do not use it in a production deployment. Use a production WSGI server instead.\n",
      " * Running on http://127.0.0.1:5000\n",
      "Press CTRL+C to quit\n",
      "127.0.0.1 - - [29/Nov/2023 18:48:58] \"GET / HTTP/1.1\" 200 -\n",
      "127.0.0.1 - - [29/Nov/2023 18:49:29] \"GET /risk_prediction HTTP/1.1\" 405 -\n"
     ]
    }
   ],
   "source": [
    "from flask import Flask, request, jsonify\n",
    "from flask import render_template\n",
    "import pandas as pd\n",
    "import pickle\n",
    "\n",
    "app = Flask(__name__)\n",
    "@app.route(\"/\")\n",
    "def loadPage():\n",
    "    return render_template('home (2).html')\n",
    "@app.route(\"/risk_prediction\", methods=['POST'])\n",
    "def RiskPrediction():\n",
    "    if request.is_json:\n",
    "        json_data = request.get_json()\n",
    "        json_data = request.get_json()\n",
    "        inputQuery1 = json_data.get('query1', 'Dist. of Columbia')\n",
    "        inputQuery2 = json_data.get('query2', 'BOP-Building')\n",
    "        inputQuery3 = json_data.get('query3', 'FixedDollar - 2500.00')\n",
    "        inputQuery4 = json_data.get('query4', 'Standard - 550637568.00')\n",
    "        inputQuery5 = json_data.get('query5', 'WATER')\n",
    "        inputQuery6 = json_data.get('query6', '2012')\n",
    "        inputQuery7 = json_data.get('query7', '8')\n",
    "        inputQuery8 = json_data.get('query8', 'ClassCode:65146')\n",
    "        inputQuery9 = json_data.get('query9', 'MasonryNonCombustible')\n",
    "        inputQuery10 = json_data.get('query10', '20016')\n",
    "        inputQuery11 = json_data.get('query11', '3640000.0000')\n",
    "        inputQuery12 = json_data.get('query12', '35000')\n",
    "        inputQuery13 = json_data.get('query13', '5426100')\n",
    "\n",
    "        # Process the data as needed\n",
    "        data = [[inputQuery1, inputQuery2, ...]]\n",
    "        df = pd.DataFrame(data, columns=['Jurisdiction', 'CoverageType', ...])\n",
    "\n",
    "        # Load model and make predictions\n",
    "        with open('./data/training/output/lgb_model.pkl', 'rb') as file:\n",
    "            model = pickle.load(file)\n",
    "        with open('./data/training/output/encoder.pkl', 'rb') as file:\n",
    "            label_encoders = pickle.load(file)\n",
    "\n",
    "        df_clean = clean_data(df)\n",
    "        for col in label_encoders:\n",
    "            df_clean[col] = label_encoders[col].transform(df_clean[col])\n",
    "        predicted_loss_amount = model.predict(df_clean)\n",
    "\n",
    "        # Assuming you have a result\n",
    "        output = {\"Predicted_loss_amount\": predicted_loss_amount[0]}\n",
    "\n",
    "        # Return the result as JSON\n",
    "        response = jsonify(output)\n",
    "    else:\n",
    "        response = jsonify({\"error\": \"Invalid request. Only JSON is allowed.\"}), 400\n",
    "\n",
    "    # Add necessary headers for cross-origin requests\n",
    "#     response.headers.add('Access-Control-Allow-Origin', '*')\n",
    "#     response.headers.add('Access-Control-Allow-Methods', 'GET, POST, OPTIONS')\n",
    "#     response.headers.add('Access-Control-Allow-Headers', 'Content-Type')\n",
    "\n",
    "\n",
    "    return jsonify(output)\n",
    "\n",
    "\n",
    "    \n",
    "\n",
    "#if __name__ == '__main__':\n",
    "app.run()"
   ]
  },
  {
   "cell_type": "code",
   "execution_count": null,
   "id": "e0eb7156",
   "metadata": {},
   "outputs": [],
   "source": [
    "curl -X POST -H \"Content-Type: application/json\" -d '{\"query1\": \"Dist. of Columbia\", \"query2\": \"BOP-Building\", \"c\", \"query4\": \"Standard - 550637568.00\", \"query5\": \"WATER\", \"query6\": \"2012\", \"query7\": \"8\", \"query8\": \"ClassCode:65146\", \"query9\": \"MasonryNonCombustible\", \"query10\": \"20016\", \"query11\": \"3640000.0000\", \"query12\": \"35000\", \"query13\": \"5426100\"}' http://localhost:5000"
   ]
  },
  {
   "cell_type": "code",
   "execution_count": null,
   "id": "dbc28f8d",
   "metadata": {},
   "outputs": [],
   "source": []
  }
 ],
 "metadata": {
  "kernelspec": {
   "display_name": "Python 3 (ipykernel)",
   "language": "python",
   "name": "python3"
  },
  "language_info": {
   "codemirror_mode": {
    "name": "ipython",
    "version": 3
   },
   "file_extension": ".py",
   "mimetype": "text/x-python",
   "name": "python",
   "nbconvert_exporter": "python",
   "pygments_lexer": "ipython3",
   "version": "3.11.5"
  }
 },
 "nbformat": 4,
 "nbformat_minor": 5
}
