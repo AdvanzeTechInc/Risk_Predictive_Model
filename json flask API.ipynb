{
 "cells": [
  {
   "cell_type": "code",
   "execution_count": null,
   "id": "3cb5cf2e",
   "metadata": {},
   "outputs": [
    {
     "name": "stdout",
     "output_type": "stream",
     "text": [
      " * Serving Flask app '__main__'\n",
      " * Debug mode: off\n"
     ]
    },
    {
     "name": "stderr",
     "output_type": "stream",
     "text": [
      "WARNING: This is a development server. Do not use it in a production deployment. Use a production WSGI server instead.\n",
      " * Running on http://127.0.0.1:5000\n",
      "Press CTRL+C to quit\n",
      "127.0.0.1 - - [30/Nov/2023 10:48:36] \"GET / HTTP/1.1\" 404 -\n",
      "127.0.0.1 - - [30/Nov/2023 10:48:47] \"GET /predict_api HTTP/1.1\" 405 -\n",
      "127.0.0.1 - - [30/Nov/2023 10:48:50] \"GET /predict_api HTTP/1.1\" 405 -\n"
     ]
    }
   ],
   "source": [
    "import pandas as pd\n",
    "from sklearn.model_selection import train_test_split\n",
    "from sklearn.ensemble import RandomForestClassifier \n",
    "from sklearn import metrics\n",
    "from flask import Flask, request, render_template,jsonify\n",
    "import re\n",
    "import math\n",
    "from utility.data_cleaning import *\n",
    "from utility.data_preprocessing import *\n",
    "from utility.model_building import *\n",
    "from config.configuration import *\n",
    "app = Flask(__name__)\n",
    "\n",
    "#import model and encoder  \n",
    "with open('./data/training/output/lgb_model.pkl', 'rb') as file:\n",
    "    model=pickle.load(file)\n",
    "with open('./data/training/output/encoder.pkl', 'rb') as file:\n",
    "    label_encoders=pickle.load(file)\n",
    "\n",
    "\n",
    "@app.route(\"/predict_api\", methods=['POST'])\n",
    "def RiskPrediction():\n",
    "    \n",
    "    json_ = request.json\n",
    "    df= pd.DataFrame([json_])\n",
    "    df_clean = clean_data(df)\n",
    "    for col in label_encoders:\n",
    "        df_clean[col] = label_encoders[col].transform(df_clean[col])\n",
    "    predicted_loss_amount= model.predict(df_clean)\n",
    "    output = predicted_loss_amount[0]\n",
    "\n",
    "    print(output)\n",
    "    \n",
    "    return jsonify({\"prediction\":output})\n",
    "if __name__ == '__main__':\n",
    "    app.run()\n"
   ]
  },
  {
   "cell_type": "code",
   "execution_count": 4,
   "id": "86a8ccc1",
   "metadata": {},
   "outputs": [
    {
     "data": {
      "text/html": [
       "<div>\n",
       "<style scoped>\n",
       "    .dataframe tbody tr th:only-of-type {\n",
       "        vertical-align: middle;\n",
       "    }\n",
       "\n",
       "    .dataframe tbody tr th {\n",
       "        vertical-align: top;\n",
       "    }\n",
       "\n",
       "    .dataframe thead th {\n",
       "        text-align: right;\n",
       "    }\n",
       "</style>\n",
       "<table border=\"1\" class=\"dataframe\">\n",
       "  <thead>\n",
       "    <tr style=\"text-align: right;\">\n",
       "      <th></th>\n",
       "      <th>Jurisdiction</th>\n",
       "      <th>CoverageType</th>\n",
       "      <th>Deductible</th>\n",
       "      <th>Limit</th>\n",
       "      <th>InjuryCause</th>\n",
       "      <th>YearBuilt</th>\n",
       "      <th>Stories</th>\n",
       "      <th>Comments</th>\n",
       "      <th>ConstructionTypeDesc</th>\n",
       "      <th>ZipCode</th>\n",
       "      <th>E2Value</th>\n",
       "      <th>SquareFootage</th>\n",
       "      <th>BuildingLimit</th>\n",
       "    </tr>\n",
       "  </thead>\n",
       "  <tbody>\n",
       "    <tr>\n",
       "      <th>0</th>\n",
       "      <td>Dist. of Columbia</td>\n",
       "      <td>BOP-Building</td>\n",
       "      <td>FixedDollar - 2500.00</td>\n",
       "      <td>Standard - 550637568.00</td>\n",
       "      <td>WATER</td>\n",
       "      <td>2012</td>\n",
       "      <td>8</td>\n",
       "      <td>ClassCode:65146</td>\n",
       "      <td>MasonryNonCombustible</td>\n",
       "      <td>20016</td>\n",
       "      <td>3640000.0000</td>\n",
       "      <td>35000</td>\n",
       "      <td>5426100</td>\n",
       "    </tr>\n",
       "  </tbody>\n",
       "</table>\n",
       "</div>"
      ],
      "text/plain": [
       "        Jurisdiction  CoverageType             Deductible  \\\n",
       "0  Dist. of Columbia  BOP-Building  FixedDollar - 2500.00   \n",
       "\n",
       "                     Limit InjuryCause YearBuilt Stories         Comments  \\\n",
       "0  Standard - 550637568.00       WATER      2012       8  ClassCode:65146   \n",
       "\n",
       "    ConstructionTypeDesc ZipCode       E2Value SquareFootage BuildingLimit  \n",
       "0  MasonryNonCombustible   20016  3640000.0000         35000       5426100  "
      ]
     },
     "metadata": {},
     "output_type": "display_data"
    }
   ],
   "source": [
    "import pandas as pd\n",
    "data= {\n",
    "    \"Jurisdiction\":\"Dist. of Columbia\",\n",
    "    \"CoverageType\":\"BOP-Building\",\n",
    "    \"Deductible\":\"FixedDollar - 2500.00\",\n",
    "    \"Limit\":\"Standard - 550637568.00\",\n",
    "    \"InjuryCause\":\"WATER\",\n",
    "    \"YearBuilt\":\"2012\",\n",
    "    \"Stories\":\"8\",\n",
    "    \"Comments\":\"ClassCode:65146\",\n",
    "    \"ConstructionTypeDesc\":\"MasonryNonCombustible\",\n",
    "    \"ZipCode\":\"20016\",\n",
    "    \"E2Value\":\"3640000.0000\",\n",
    "    \"SquareFootage\":\"35000\",\n",
    "    \"BuildingLimit\":\"5426100\"\n",
    "}\n",
    "df=pd.DataFrame([data])\n",
    "display(df)"
   ]
  },
  {
   "cell_type": "code",
   "execution_count": null,
   "id": "0c74735f",
   "metadata": {},
   "outputs": [],
   "source": []
  }
 ],
 "metadata": {
  "kernelspec": {
   "display_name": "Python 3 (ipykernel)",
   "language": "python",
   "name": "python3"
  },
  "language_info": {
   "codemirror_mode": {
    "name": "ipython",
    "version": 3
   },
   "file_extension": ".py",
   "mimetype": "text/x-python",
   "name": "python",
   "nbconvert_exporter": "python",
   "pygments_lexer": "ipython3",
   "version": "3.11.5"
  }
 },
 "nbformat": 4,
 "nbformat_minor": 5
}
